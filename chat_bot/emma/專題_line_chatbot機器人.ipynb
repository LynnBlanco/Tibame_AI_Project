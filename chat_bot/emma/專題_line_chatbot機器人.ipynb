{
  "nbformat": 4,
  "nbformat_minor": 0,
  "metadata": {
    "colab": {
      "name": "專題-line chatbot機器人",
      "provenance": [],
      "collapsed_sections": []
    },
    "kernelspec": {
      "display_name": "Python 3",
      "language": "python",
      "name": "python3"
    },
    "language_info": {
      "codemirror_mode": {
        "name": "ipython",
        "version": 3
      },
      "file_extension": ".py",
      "mimetype": "text/x-python",
      "name": "python",
      "nbconvert_exporter": "python",
      "pygments_lexer": "ipython3",
      "version": "3.8.6"
    }
  },
  "cells": [
    {
      "cell_type": "code",
      "metadata": {
        "colab": {
          "base_uri": "https://localhost:8080/"
        },
        "id": "X3LwakEVyomh",
        "outputId": "81db9dcd-922e-4a43-cbe6-799707c25498"
      },
      "source": [
        "from google.colab import drive\n",
        "drive.mount('/content/drive')"
      ],
      "execution_count": 1,
      "outputs": [
        {
          "output_type": "stream",
          "text": [
            "Drive already mounted at /content/drive; to attempt to forcibly remount, call drive.mount(\"/content/drive\", force_remount=True).\n"
          ],
          "name": "stdout"
        }
      ]
    },
    {
      "cell_type": "code",
      "metadata": {
        "colab": {
          "base_uri": "https://localhost:8080/"
        },
        "id": "9ljXjjsv1tle",
        "outputId": "a03603ac-5ebe-4941-c104-2cda2f51a5a4"
      },
      "source": [
        "!pip install line-bot-sdk flask flask-ngrok"
      ],
      "execution_count": 2,
      "outputs": [
        {
          "output_type": "stream",
          "text": [
            "Collecting line-bot-sdk\n",
            "  Downloading line_bot_sdk-1.19.0-py2.py3-none-any.whl (68 kB)\n",
            "\u001b[?25l\r\u001b[K     |████▉                           | 10 kB 26.0 MB/s eta 0:00:01\r\u001b[K     |█████████▋                      | 20 kB 32.1 MB/s eta 0:00:01\r\u001b[K     |██████████████▍                 | 30 kB 22.4 MB/s eta 0:00:01\r\u001b[K     |███████████████████▏            | 40 kB 17.0 MB/s eta 0:00:01\r\u001b[K     |████████████████████████        | 51 kB 9.3 MB/s eta 0:00:01\r\u001b[K     |████████████████████████████▊   | 61 kB 9.6 MB/s eta 0:00:01\r\u001b[K     |████████████████████████████████| 68 kB 4.0 MB/s \n",
            "\u001b[?25hRequirement already satisfied: flask in /usr/local/lib/python3.7/dist-packages (1.1.4)\n",
            "Collecting flask-ngrok\n",
            "  Downloading flask_ngrok-0.0.25-py3-none-any.whl (3.1 kB)\n",
            "Requirement already satisfied: requests>=2.0 in /usr/local/lib/python3.7/dist-packages (from line-bot-sdk) (2.23.0)\n",
            "Requirement already satisfied: future in /usr/local/lib/python3.7/dist-packages (from line-bot-sdk) (0.16.0)\n",
            "Requirement already satisfied: idna<3,>=2.5 in /usr/local/lib/python3.7/dist-packages (from requests>=2.0->line-bot-sdk) (2.10)\n",
            "Requirement already satisfied: urllib3!=1.25.0,!=1.25.1,<1.26,>=1.21.1 in /usr/local/lib/python3.7/dist-packages (from requests>=2.0->line-bot-sdk) (1.24.3)\n",
            "Requirement already satisfied: chardet<4,>=3.0.2 in /usr/local/lib/python3.7/dist-packages (from requests>=2.0->line-bot-sdk) (3.0.4)\n",
            "Requirement already satisfied: certifi>=2017.4.17 in /usr/local/lib/python3.7/dist-packages (from requests>=2.0->line-bot-sdk) (2021.5.30)\n",
            "Requirement already satisfied: click<8.0,>=5.1 in /usr/local/lib/python3.7/dist-packages (from flask) (7.1.2)\n",
            "Requirement already satisfied: itsdangerous<2.0,>=0.24 in /usr/local/lib/python3.7/dist-packages (from flask) (1.1.0)\n",
            "Requirement already satisfied: Jinja2<3.0,>=2.10.1 in /usr/local/lib/python3.7/dist-packages (from flask) (2.11.3)\n",
            "Requirement already satisfied: Werkzeug<2.0,>=0.15 in /usr/local/lib/python3.7/dist-packages (from flask) (1.0.1)\n",
            "Requirement already satisfied: MarkupSafe>=0.23 in /usr/local/lib/python3.7/dist-packages (from Jinja2<3.0,>=2.10.1->flask) (2.0.1)\n",
            "Installing collected packages: line-bot-sdk, flask-ngrok\n",
            "Successfully installed flask-ngrok-0.0.25 line-bot-sdk-1.19.0\n"
          ],
          "name": "stdout"
        }
      ]
    },
    {
      "cell_type": "code",
      "metadata": {
        "id": "igW8jj7I1zvH"
      },
      "source": [
        "# 引用flask套件\n",
        "from flask import Flask, request, abort, jsonify, render_template\n",
        "\n",
        "# 外部連結自動生成套件\n",
        "from flask_ngrok import run_with_ngrok\n",
        "\n",
        "# 引用json套件\n",
        "import json\n",
        "# 引用line套件\n",
        "from linebot import (\n",
        "    LineBotApi, WebhookHandler\n",
        ")\n",
        "# 引用驗證消息用的套件\n",
        "from linebot.exceptions import (\n",
        "    InvalidSignatureError\n",
        ")\n",
        "# 引用line的消息套件\n",
        "from linebot.models import (\n",
        "    MessageEvent, TextMessage, TextSendMessage, FollowEvent, ImageMessage, ImageSendMessage, RichMenu, LocationSendMessage,\n",
        "    TemplateSendMessage, PostbackEvent, FlexSendMessage, VideoSendMessage, StickerSendMessage, AudioSendMessage, MessageAction, URIAction,\n",
        "    PostbackAction, DatetimePickerAction,CameraAction, CameraRollAction, LocationAction, QuickReply, QuickReplyButton\n",
        ")\n",
        "\n",
        "# 引入相關套件\n",
        "from linebot.models import (\n",
        "    MessageAction, URIAction,\n",
        "    PostbackAction,\n",
        "    QuickReply, QuickReplyButton\n",
        ")\n",
        "\n",
        "# 引入按鍵模板\n",
        "\n",
        "from linebot.models.template import (\n",
        "    ButtonsTemplate, CarouselTemplate, ConfirmTemplate, ImageCarouselTemplate\n",
        "\n",
        ")\n",
        "\n",
        "\n",
        "# 圖片下載與上傳專用\n",
        "import urllib.request\n",
        "import os\n",
        "\n",
        "# 其他用到的套件\n",
        "import random\n",
        "from datetime import date"
      ],
      "execution_count": 3,
      "outputs": []
    },
    {
      "cell_type": "code",
      "metadata": {
        "id": "_94zsnqx13KD"
      },
      "source": [
        "'''\n",
        "建置主程序app\n",
        "\n",
        "建置handler與 line_bot_api\n",
        "'''\n",
        "\n",
        "# 設定Server啟用細節\n",
        "app = Flask(__name__,static_url_path = \"/material\" , static_folder = \"./material/\")\n",
        "run_with_ngrok(app)\n",
        "\n",
        "# 生成實體物件\n",
        "line_bot_api = LineBotApi(\"Channel access token\")\n",
        "handler = WebhookHandler(\"Channel secret\")"
      ],
      "execution_count": 4,
      "outputs": []
    },
    {
      "cell_type": "code",
      "metadata": {
        "id": "PkwRHZY32KGZ"
      },
      "source": [
        "# 啟動server對外接口，使Line能丟消息進來\n",
        "@app.route(\"/callback\", methods=['POST'])\n",
        "def callback():\n",
        "    # get X-Line-Signature header value\n",
        "    signature = request.headers['X-Line-Signature']\n",
        "\n",
        "    # get request body as text\n",
        "    body = request.get_data(as_text=True)\n",
        "    print(body)\n",
        "\n",
        "    # handle webhook body\n",
        "    try:\n",
        "        handler.handle(body, signature)\n",
        "    except InvalidSignatureError:\n",
        "        abort(400)\n",
        "\n",
        "    return 'OK'"
      ],
      "execution_count": 5,
      "outputs": []
    },
    {
      "cell_type": "code",
      "metadata": {
        "id": "555iT1Hp7dc0"
      },
      "source": [
        "def detect_json_array_to_new_message_array(fileName):\n",
        "    # 開啟檔案，轉成json\n",
        "    with open(fileName, encoding='utf8') as f:\n",
        "        jsonArray = json.load(f)\n",
        "\n",
        "    # 解析json\n",
        "    returnArray = []\n",
        "    for jsonObject in jsonArray:\n",
        "\n",
        "        # 讀取其用來判斷的元件\n",
        "        message_type = jsonObject.get('type')\n",
        "\n",
        "        # 轉換\n",
        "        if message_type == 'text':\n",
        "            returnArray.append(TextSendMessage.new_from_json_dict(jsonObject))\n",
        "        elif message_type == 'imagemap':\n",
        "            returnArray.append(ImagemapSendMessage.new_from_json_dict(jsonObject))\n",
        "        elif message_type == 'template':\n",
        "            returnArray.append(TemplateSendMessage.new_from_json_dict(jsonObject))\n",
        "        elif message_type == 'image':\n",
        "            returnArray.append(ImageSendMessage.new_from_json_dict(jsonObject))\n",
        "        elif message_type == 'sticker':\n",
        "            returnArray.append(StickerSendMessage.new_from_json_dict(jsonObject))\n",
        "        elif message_type == 'audio':\n",
        "            returnArray.append(AudioSendMessage.new_from_json_dict(jsonObject))\n",
        "        elif message_type == 'location':\n",
        "            returnArray.append(LocationSendMessage.new_from_json_dict(jsonObject))\n",
        "        elif message_type == 'flex':\n",
        "            returnArray.append(FlexSendMessage.new_from_json_dict(jsonObject))\n",
        "        elif message_type == 'video':\n",
        "            returnArray.append(VideoSendMessage.new_from_json_dict(jsonObject))\n",
        "\n",
        "            # 回傳\n",
        "    return returnArray"
      ],
      "execution_count": 6,
      "outputs": []
    },
    {
      "cell_type": "code",
      "metadata": {
        "id": "cgBqKfODtuyN"
      },
      "source": [
        "'''\n",
        "菜單設定檔\n",
        "\n",
        "    設定圖面大小、按鍵名與功能\n",
        "    \n",
        "'''\n",
        "\n",
        "menuRawData=\"\"\"\n",
        "{\n",
        "  \"size\": {\n",
        "    \"width\": 2500,\n",
        "    \"height\": 1686\n",
        "  },\n",
        "  \"selected\": true,\n",
        "  \"name\": \"圖文選單1\",\n",
        "  \"chatBarText\": \"看更多\",\n",
        "  \"areas\": [\n",
        "    {\n",
        "      \"bounds\": {\n",
        "        \"x\": 0,\n",
        "        \"y\": 260,\n",
        "        \"width\": 830,\n",
        "        \"height\": 721\n",
        "      },\n",
        "      \"action\": {\n",
        "        \"type\": \"postback\",\n",
        "        \"text\": \"蔬果價格排行表\",\n",
        "        \"data\": \"price_level\"\n",
        "      }\n",
        "    },\n",
        "    {\n",
        "      \"bounds\": {\n",
        "        \"x\": 830,\n",
        "        \"y\": 258,\n",
        "        \"width\": 845,\n",
        "        \"height\": 722\n",
        "      },\n",
        "      \"action\": {\n",
        "        \"type\": \"message\",\n",
        "        \"text\": \"看水果\"\n",
        "      }\n",
        "    },\n",
        "    {\n",
        "      \"bounds\": {\n",
        "        \"x\": 1684,\n",
        "        \"y\": 259,\n",
        "        \"width\": 812,\n",
        "        \"height\": 721\n",
        "      },\n",
        "      \"action\": {\n",
        "        \"type\": \"message\",\n",
        "        \"text\": \"看蔬菜\"\n",
        "      }\n",
        "    },\n",
        "    {\n",
        "      \"bounds\": {\n",
        "        \"x\": 0,\n",
        "        \"y\": 972,\n",
        "        \"width\": 825,\n",
        "        \"height\": 710\n",
        "      },\n",
        "      \"action\": {\n",
        "        \"type\": \"message\",\n",
        "        \"text\": \"蔬果報報\"\n",
        "      }\n",
        "    },\n",
        "    {\n",
        "      \"bounds\": {\n",
        "        \"x\": 826,\n",
        "        \"y\": 976,\n",
        "        \"width\": 848,\n",
        "        \"height\": 710\n",
        "      },\n",
        "      \"action\": {\n",
        "        \"type\": \"postback\",\n",
        "        \"text\": \"推薦購買組合\",\n",
        "        \"data\": \"recommend_buy_set\"\n",
        "      }\n",
        "    },\n",
        "    {\n",
        "      \"bounds\": {\n",
        "        \"x\": 1670,\n",
        "        \"y\": 976,\n",
        "        \"width\": 830,\n",
        "        \"height\": 710\n",
        "      },\n",
        "      \"action\": {\n",
        "        \"type\": \"message\",\n",
        "        \"text\": \"分享\"\n",
        "      }\n",
        "    },\n",
        "    {\n",
        "      \"bounds\": {\n",
        "        \"x\": 5,\n",
        "        \"y\": 0,\n",
        "        \"width\": 1825,\n",
        "        \"height\": 259\n",
        "      },\n",
        "      \"action\": {\n",
        "        \"type\": \"message\",\n",
        "        \"text\": \"選地區\"\n",
        "      }\n",
        "    },\n",
        "    {\n",
        "      \"bounds\": {\n",
        "        \"x\": 1835,\n",
        "        \"y\": 0,\n",
        "        \"width\": 655,\n",
        "        \"height\": 245\n",
        "      },\n",
        "      \"action\": {\n",
        "        \"type\": \"message\",\n",
        "        \"text\": \"意見反應\"\n",
        "      }\n",
        "    }\n",
        "  ]\n",
        "}\n",
        "\"\"\""
      ],
      "execution_count": 7,
      "outputs": []
    },
    {
      "cell_type": "code",
      "metadata": {
        "id": "UaxyoQIUVhNq"
      },
      "source": [
        "# 創建QuickReplyButton\n",
        "## 點擊後，以Postback事件回應Server \n",
        "postbackQRB_0 = QuickReplyButton(\n",
        "    action=PostbackAction(label=\"200以內\", data=\"set_0\")\n",
        ")\n",
        "\n",
        "postbackQRB_1 = QuickReplyButton(\n",
        "    action=PostbackAction(label=\"200-500\", data=\"set_1\")\n",
        ")\n",
        "\n",
        "postbackQRB_2 = QuickReplyButton(\n",
        "    action=PostbackAction(label=\"500-1000\", data=\"set_2\")\n",
        ")\n",
        "\n",
        "postbackQRB_3 = QuickReplyButton(\n",
        "    action=PostbackAction(label=\"1000以上\", data=\"set_3\")\n",
        ")\n",
        "\n",
        "## 設計QuickReplyButton的List\n",
        "quickReplyList = QuickReply(\n",
        "    items = [postbackQRB_0, postbackQRB_1, postbackQRB_2, postbackQRB_3]\n",
        ")\n",
        "\n",
        "# 製作TextSendMessage，並將剛封裝的QuickReply放入\n",
        "quick_reply_text_send_message = TextSendMessage(text='請選擇您這週的買菜預算，我們會推薦最划算的組合給您參考', quick_reply=quickReplyList)"
      ],
      "execution_count": 8,
      "outputs": []
    },
    {
      "cell_type": "code",
      "metadata": {
        "colab": {
          "base_uri": "https://localhost:8080/"
        },
        "id": "Q_G0rkXqtuyQ",
        "outputId": "2bfdeca2-4a8a-4ed5-bbed-a8e9e76e9ca5"
      },
      "source": [
        "'''\n",
        "\n",
        "載入前面的圖文選單設定，\n",
        "\n",
        "並要求line_bot_api將圖文選單上傳至Line\n",
        "    \n",
        "\n",
        "'''\n",
        "\n",
        "from linebot.models import RichMenu\n",
        "import requests\n",
        "\n",
        "menuJson=json.loads(menuRawData)\n",
        "\n",
        "lineRichMenuId_one = line_bot_api.create_rich_menu(rich_menu=RichMenu.new_from_json_dict(menuJson))\n",
        "print(lineRichMenuId_one)"
      ],
      "execution_count": 9,
      "outputs": [
        {
          "output_type": "stream",
          "text": [
            "richmenu-dd935b50da43ded775ac047858cd4efb\n"
          ],
          "name": "stdout"
        }
      ]
    },
    {
      "cell_type": "code",
      "metadata": {
        "colab": {
          "base_uri": "https://localhost:8080/"
        },
        "id": "V2vT7yXJtuyQ",
        "outputId": "1237604b-fcfe-4fd7-da23-0460584916bb"
      },
      "source": [
        "'''\n",
        "\n",
        "將先前準備的菜單照片，以Post消息寄發給Line\n",
        "\n",
        "    載入照片\n",
        "    要求line_bot_api，將圖片傳到先前的圖文選單id\n",
        "\n",
        "\n",
        "'''\n",
        "\n",
        "\n",
        "uploadImageFile=open(\"/content/drive/MyDrive/AI課程檔案/專題相關/line_chatbot/圖四.001.jpg\",'rb')\n",
        "\n",
        "setImageResponse = line_bot_api.set_rich_menu_image(lineRichMenuId_one,'image/jpeg',uploadImageFile)\n",
        "\n",
        "print(setImageResponse)"
      ],
      "execution_count": 10,
      "outputs": [
        {
          "output_type": "stream",
          "text": [
            "None\n"
          ],
          "name": "stdout"
        }
      ]
    },
    {
      "cell_type": "code",
      "metadata": {
        "id": "Nj-67TiX2UgZ"
      },
      "source": [
        "'''\n",
        "\n",
        "1. 取得用戶個資，並存回伺服器\n",
        "2. 回應用戶，歡迎用的文字消息\n",
        "\n",
        "'''\n",
        "# 這部分是光超要寫的\n",
        "\n",
        "# 載入Follow事件\n",
        "from linebot.models.events import (\n",
        "    FollowEvent\n",
        ")\n",
        "\n",
        "from linebot.models import(\n",
        "    TextSendMessage, ImageSendMessage\n",
        ")\n",
        "\n",
        "# 告知handler，如果收到FollowEvent，則做下面的方法處理\n",
        "@handler.add(FollowEvent)\n",
        "def handle_follow_event(event):\n",
        "    \n",
        "    # 取出消息內User的資料\n",
        "    user_profile = line_bot_api.get_profile(event.source.user_id)\n",
        "\n",
        "    # 當用戶關注時，回覆以下訊息\n",
        "    text_1 = \"個資已取\"\n",
        "    line_bot_api.reply_message(event.reply_token, [TextSendMessage(text=text_1)])\n",
        "    # 當用戶關注時，綁定圖文選單\n",
        "    line_bot_api.link_rich_menu_to_user(event.source.user_id, lineRichMenuId_one)"
      ],
      "execution_count": 11,
      "outputs": []
    },
    {
      "cell_type": "markdown",
      "metadata": {
        "id": "g1gG_lQKH4e9"
      },
      "source": [
        "尚未確認：\n",
        "1. 到資料庫查詢使用者地區"
      ]
    },
    {
      "cell_type": "code",
      "metadata": {
        "id": "aTo21e258J_n"
      },
      "source": [
        "# 當收到Poskback的處理方法\n",
        "@handler.add(PostbackEvent)\n",
        "def handle_post_message(event):\n",
        "    if event.postback.data.startswith('price_level'):\n",
        "      # 推播蔬果價格排行\n",
        "      # 根據使用者id 抓取使用者是哪一區(需要和資料庫記錄使用者資訊部分綁定，尚未處理)\n",
        "      user_id = event.source.user_id\n",
        "      file_path = '/content/drive/MyDrive/AI課程檔案/專題相關/line_chatbot/price_rank_北區.json'\n",
        "      # 根據使用者地區 抓取該區的price_rank.json檔(上面尚未處理，目前先假設以北區為例)\n",
        "      FlexMessage = json.load(open(file_path,'r',encoding='utf-8'))\n",
        "      line_bot_api.reply_message(event.reply_token, FlexSendMessage('每日價格排行榜',FlexMessage))\n",
        "        \n",
        "    elif event.postback.data.startswith('recommend_buy_set'):\n",
        "      # 跳出氣泡視窗請使用者選擇預算\n",
        "      line_bot_api.reply_message(event.reply_token, quick_reply_text_send_message)\n",
        "\n",
        "    elif event.postback.data.startswith('set'):\n",
        "      # 使用者選擇完預算後，依照對應預算推薦購物組合\n",
        "      # 先根據postback的data標籤，判斷使用者是哪一個預算\n",
        "      num = event.postback.data[-1]\n",
        "      file_path = f'/content/drive/MyDrive/AI課程檔案/專題相關/line_chatbot/recommend_buy_{num}.json'\n",
        "      FlexMessage = json.load(open( file_path,'r',encoding='utf-8'))\n",
        "      line_bot_api.reply_message(event.reply_token, FlexSendMessage('最划算的購物組合',FlexMessage))\n",
        "      "
      ],
      "execution_count": 12,
      "outputs": []
    },
    {
      "cell_type": "code",
      "metadata": {
        "colab": {
          "base_uri": "https://localhost:8080/"
        },
        "id": "xlZNwnVNtuyT",
        "outputId": "f1a206a8-1073-4120-d512-feb7164545c3"
      },
      "source": [
        "'''\n",
        "\n",
        "檢視帳號內，有哪些選單\n",
        "    要求line_bot_api，向line查詢我方的圖文選單列表\n",
        "    打印\n",
        "\n",
        "'''\n",
        "\n",
        "rich_menu_list = line_bot_api.get_rich_menu_list()\n",
        "\n",
        "\n",
        "for rich_menu in rich_menu_list:\n",
        "  print(rich_menu.rich_menu_id)\n"
      ],
      "execution_count": 13,
      "outputs": [
        {
          "output_type": "stream",
          "text": [
            "richmenu-c726695cd5da6ac1b5b1ec846418f1df\n",
            "richmenu-333cb9678d25394da7bb103b76a598a4\n",
            "richmenu-c59b7772af6efbe74b76a4488132c569\n",
            "richmenu-962b8a9b2c4825d6f5b9e05a32449020\n",
            "richmenu-dd935b50da43ded775ac047858cd4efb\n",
            "richmenu-6d5bec2b3b71169166ae55ac4441f458\n",
            "richmenu-cec24e437d9b6d32f789d1439fc7e5a4\n",
            "richmenu-b4eb4d30a1f518f16c346efac7a0acd3\n",
            "richmenu-bbaf34c119b0f71979081e84cb3fd675\n",
            "richmenu-7da79a1d79c1a519538e32ffafffe51b\n",
            "richmenu-d44eea927b3b6c2a02020c8c78f34bac\n",
            "richmenu-accbdeec3692522727c19cf750467450\n",
            "richmenu-7edff905e1e99929fc2ed7cd2a39c1ca\n",
            "richmenu-6a06960dfc8ff67de46521bfb60bb863\n",
            "richmenu-a984d91e4825447254c19ac7d592a762\n"
          ],
          "name": "stdout"
        }
      ]
    },
    {
      "cell_type": "code",
      "metadata": {
        "colab": {
          "base_uri": "https://localhost:8080/"
        },
        "id": "zSL1cter2erC",
        "outputId": "7f907536-a156-4b8b-e121-7dfb6d477613"
      },
      "source": [
        "# 運行主程序\n",
        "app.run()"
      ],
      "execution_count": 14,
      "outputs": [
        {
          "output_type": "stream",
          "text": [
            " * Serving Flask app \"__main__\" (lazy loading)\n",
            " * Environment: production\n",
            "\u001b[31m   WARNING: This is a development server. Do not use it in a production deployment.\u001b[0m\n",
            "\u001b[2m   Use a production WSGI server instead.\u001b[0m\n",
            " * Debug mode: off\n"
          ],
          "name": "stdout"
        },
        {
          "output_type": "stream",
          "text": [
            " * Running on http://127.0.0.1:5000/ (Press CTRL+C to quit)\n"
          ],
          "name": "stderr"
        },
        {
          "output_type": "stream",
          "text": [
            " * Running on http://609db899628b.ngrok.io\n",
            " * Traffic stats available on http://127.0.0.1:4040\n"
          ],
          "name": "stdout"
        },
        {
          "output_type": "stream",
          "text": [
            "127.0.0.1 - - [22/Jul/2021 15:53:51] \"\u001b[33mGET / HTTP/1.1\u001b[0m\" 404 -\n",
            "127.0.0.1 - - [22/Jul/2021 15:53:51] \"\u001b[33mGET /favicon.ico HTTP/1.1\u001b[0m\" 404 -\n",
            "127.0.0.1 - - [22/Jul/2021 15:53:52] \"\u001b[33mGET / HTTP/1.1\u001b[0m\" 404 -\n",
            "127.0.0.1 - - [22/Jul/2021 15:54:11] \"\u001b[37mPOST /callback HTTP/1.1\u001b[0m\" 200 -\n"
          ],
          "name": "stderr"
        },
        {
          "output_type": "stream",
          "text": [
            "{\"destination\":\"U9719c8a41962aba3fa48bf87294ecfb9\",\"events\":[{\"type\":\"unfollow\",\"timestamp\":1626969250543,\"source\":{\"type\":\"user\",\"userId\":\"U02f652445e532f1ce106e8f3332018af\"},\"mode\":\"active\"}]}\n",
            "{\"destination\":\"U9719c8a41962aba3fa48bf87294ecfb9\",\"events\":[{\"type\":\"follow\",\"timestamp\":1626969252406,\"source\":{\"type\":\"user\",\"userId\":\"U02f652445e532f1ce106e8f3332018af\"},\"replyToken\":\"217feb3e6b344c47b45302ff5379778b\",\"mode\":\"active\"}]}\n"
          ],
          "name": "stdout"
        },
        {
          "output_type": "stream",
          "text": [
            "127.0.0.1 - - [22/Jul/2021 15:54:14] \"\u001b[37mPOST /callback HTTP/1.1\u001b[0m\" 200 -\n"
          ],
          "name": "stderr"
        },
        {
          "output_type": "stream",
          "text": [
            "{\"destination\":\"U9719c8a41962aba3fa48bf87294ecfb9\",\"events\":[{\"type\":\"postback\",\"postback\":{\"data\":\"price_level\"},\"timestamp\":1626969262638,\"source\":{\"type\":\"user\",\"userId\":\"U02f652445e532f1ce106e8f3332018af\"},\"replyToken\":\"ba4e3f1cb253453f870d48239897e333\",\"mode\":\"active\"},{\"type\":\"message\",\"message\":{\"type\":\"text\",\"id\":\"14440616708884\",\"text\":\"蔬果價格排行表\"},\"timestamp\":1626969262638,\"source\":{\"type\":\"user\",\"userId\":\"U02f652445e532f1ce106e8f3332018af\"},\"replyToken\":\"a98794aec3dd4d7fa7a1ef0286e87ba9\",\"mode\":\"active\"}]}\n"
          ],
          "name": "stdout"
        },
        {
          "output_type": "stream",
          "text": [
            "127.0.0.1 - - [22/Jul/2021 15:54:24] \"\u001b[37mPOST /callback HTTP/1.1\u001b[0m\" 200 -\n"
          ],
          "name": "stderr"
        },
        {
          "output_type": "stream",
          "text": [
            "{\"destination\":\"U9719c8a41962aba3fa48bf87294ecfb9\",\"events\":[{\"type\":\"postback\",\"postback\":{\"data\":\"recommend_buy_set\"},\"timestamp\":1626969318049,\"source\":{\"type\":\"user\",\"userId\":\"U02f652445e532f1ce106e8f3332018af\"},\"replyToken\":\"8a8614d4c3cc40609b0dda357fa28ce4\",\"mode\":\"active\"},{\"type\":\"message\",\"message\":{\"type\":\"text\",\"id\":\"14440619770971\",\"text\":\"推薦購買組合\"},\"timestamp\":1626969318049,\"source\":{\"type\":\"user\",\"userId\":\"U02f652445e532f1ce106e8f3332018af\"},\"replyToken\":\"0aa4128f3c3e4f2bb43c44e576c7db5b\",\"mode\":\"active\"}]}\n"
          ],
          "name": "stdout"
        },
        {
          "output_type": "stream",
          "text": [
            "127.0.0.1 - - [22/Jul/2021 15:55:19] \"\u001b[37mPOST /callback HTTP/1.1\u001b[0m\" 200 -\n"
          ],
          "name": "stderr"
        },
        {
          "output_type": "stream",
          "text": [
            "{\"destination\":\"U9719c8a41962aba3fa48bf87294ecfb9\",\"events\":[{\"type\":\"postback\",\"postback\":{\"data\":\"set_0\"},\"timestamp\":1626969320921,\"source\":{\"type\":\"user\",\"userId\":\"U02f652445e532f1ce106e8f3332018af\"},\"replyToken\":\"107252f218614e969639d4cf4177806f\",\"mode\":\"active\"}]}\n"
          ],
          "name": "stdout"
        },
        {
          "output_type": "stream",
          "text": [
            "127.0.0.1 - - [22/Jul/2021 15:55:21] \"\u001b[37mPOST /callback HTTP/1.1\u001b[0m\" 200 -\n"
          ],
          "name": "stderr"
        },
        {
          "output_type": "stream",
          "text": [
            "{\"destination\":\"U9719c8a41962aba3fa48bf87294ecfb9\",\"events\":[{\"type\":\"postback\",\"postback\":{\"data\":\"recommend_buy_set\"},\"timestamp\":1626969331372,\"source\":{\"type\":\"user\",\"userId\":\"U02f652445e532f1ce106e8f3332018af\"},\"replyToken\":\"916120df1ce140ca9389e80fc6a364f2\",\"mode\":\"active\"}]}\n"
          ],
          "name": "stdout"
        },
        {
          "output_type": "stream",
          "text": [
            "127.0.0.1 - - [22/Jul/2021 15:55:32] \"\u001b[37mPOST /callback HTTP/1.1\u001b[0m\" 200 -\n"
          ],
          "name": "stderr"
        },
        {
          "output_type": "stream",
          "text": [
            "{\"destination\":\"U9719c8a41962aba3fa48bf87294ecfb9\",\"events\":[{\"type\":\"postback\",\"postback\":{\"data\":\"set_2\"},\"timestamp\":1626969333916,\"source\":{\"type\":\"user\",\"userId\":\"U02f652445e532f1ce106e8f3332018af\"},\"replyToken\":\"2219bff04d5345d08fa65f89a4be22bf\",\"mode\":\"active\"}]}\n"
          ],
          "name": "stdout"
        },
        {
          "output_type": "stream",
          "text": [
            "127.0.0.1 - - [22/Jul/2021 15:55:34] \"\u001b[37mPOST /callback HTTP/1.1\u001b[0m\" 200 -\n"
          ],
          "name": "stderr"
        },
        {
          "output_type": "stream",
          "text": [
            "{\"destination\":\"U9719c8a41962aba3fa48bf87294ecfb9\",\"events\":[{\"type\":\"postback\",\"postback\":{\"data\":\"recommend_buy_set\"},\"timestamp\":1626969337909,\"source\":{\"type\":\"user\",\"userId\":\"U02f652445e532f1ce106e8f3332018af\"},\"replyToken\":\"0101130f76b84956b576b73b9c216f6e\",\"mode\":\"active\"}]}\n"
          ],
          "name": "stdout"
        },
        {
          "output_type": "stream",
          "text": [
            "127.0.0.1 - - [22/Jul/2021 15:55:39] \"\u001b[37mPOST /callback HTTP/1.1\u001b[0m\" 200 -\n"
          ],
          "name": "stderr"
        },
        {
          "output_type": "stream",
          "text": [
            "{\"destination\":\"U9719c8a41962aba3fa48bf87294ecfb9\",\"events\":[{\"type\":\"postback\",\"postback\":{\"data\":\"set_3\"},\"timestamp\":1626969340666,\"source\":{\"type\":\"user\",\"userId\":\"U02f652445e532f1ce106e8f3332018af\"},\"replyToken\":\"18c9e99286cf4937b691812846d18e73\",\"mode\":\"active\"}]}\n"
          ],
          "name": "stdout"
        },
        {
          "output_type": "stream",
          "text": [
            "127.0.0.1 - - [22/Jul/2021 15:55:41] \"\u001b[37mPOST /callback HTTP/1.1\u001b[0m\" 200 -\n"
          ],
          "name": "stderr"
        },
        {
          "output_type": "stream",
          "text": [
            "{\"destination\":\"U9719c8a41962aba3fa48bf87294ecfb9\",\"events\":[{\"type\":\"postback\",\"postback\":{\"data\":\"recommend_buy_set\"},\"timestamp\":1626969344021,\"source\":{\"type\":\"user\",\"userId\":\"U02f652445e532f1ce106e8f3332018af\"},\"replyToken\":\"8d736637a90441de87af7b9d7e0c2c37\",\"mode\":\"active\"}]}\n"
          ],
          "name": "stdout"
        },
        {
          "output_type": "stream",
          "text": [
            "127.0.0.1 - - [22/Jul/2021 15:55:45] \"\u001b[37mPOST /callback HTTP/1.1\u001b[0m\" 200 -\n"
          ],
          "name": "stderr"
        },
        {
          "output_type": "stream",
          "text": [
            "{\"destination\":\"U9719c8a41962aba3fa48bf87294ecfb9\",\"events\":[{\"type\":\"postback\",\"postback\":{\"data\":\"set_1\"},\"timestamp\":1626969346038,\"source\":{\"type\":\"user\",\"userId\":\"U02f652445e532f1ce106e8f3332018af\"},\"replyToken\":\"a3bdfc617c614584a8b4e50003cc9434\",\"mode\":\"active\"}]}\n"
          ],
          "name": "stdout"
        },
        {
          "output_type": "stream",
          "text": [
            "127.0.0.1 - - [22/Jul/2021 15:55:47] \"\u001b[37mPOST /callback HTTP/1.1\u001b[0m\" 200 -\n"
          ],
          "name": "stderr"
        }
      ]
    }
  ]
}