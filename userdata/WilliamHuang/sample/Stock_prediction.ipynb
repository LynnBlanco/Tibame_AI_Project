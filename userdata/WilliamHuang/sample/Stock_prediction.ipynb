{
  "nbformat": 4,
  "nbformat_minor": 0,
  "metadata": {
    "colab": {
      "name": "Stock_prediction.ipynb",
      "provenance": [],
      "collapsed_sections": []
    },
    "kernelspec": {
      "name": "python3",
      "display_name": "Python 3"
    },
    "language_info": {
      "name": "python"
    }
  },
  "cells": [
    {
      "cell_type": "code",
      "metadata": {
        "colab": {
          "base_uri": "https://localhost:8080/"
        },
        "id": "9xN6ieadsAw7",
        "outputId": "754b901a-0fad-4b90-a216-9f5f4b1ea090"
      },
      "source": [
        "import pandas as pd\n",
        "from keras.layers.core import Dense, Dropout\n",
        "from keras.layers.recurrent import GRU\n",
        "from keras.models import Sequential, load_model\n",
        "import matplotlib.pyplot as plt\n",
        "import numpy as np\n",
        "from sklearn.model_selection import train_test_split\n",
        "from sklearn.preprocessing import MinMaxScaler\n",
        "\n",
        "\n",
        "prices = pd.read_csv('prices_stock.csv', index_col=['date'])\n",
        "\n",
        "# selecting YHOO stocks\n",
        "yahoo = prices[prices['symbol']=='YHOO']\n",
        "\n",
        "# preparing input features\n",
        "yahoo = yahoo.drop(['symbol'], axis=1)\n",
        "yahoo = yahoo.drop(['volume'], axis=1)\n",
        "yahoo = yahoo[['open', 'low', 'high', 'close']]\n",
        "\n",
        "print(yahoo)"
      ],
      "execution_count": null,
      "outputs": [
        {
          "output_type": "stream",
          "text": [
            "                 open        low       high      close\n",
            "date                                                  \n",
            "2010-01-04  16.940001  16.879999  17.200001  17.100000\n",
            "2010-01-05  17.219999  17.000000  17.230000  17.230000\n",
            "2010-01-06  17.170000  17.070000  17.299999  17.170000\n",
            "2010-01-07  16.809999  16.570000  16.900000  16.700001\n",
            "2010-01-08  16.680000  16.620001  16.760000  16.700001\n",
            "...               ...        ...        ...        ...\n",
            "2016-12-23  38.459999  38.369999  38.810001  38.660000\n",
            "2016-12-27  38.590000  38.500000  39.070000  38.919998\n",
            "2016-12-28  39.119999  38.709999  39.220001  38.730000\n",
            "2016-12-29  38.759998  38.480000  38.930000  38.639999\n",
            "2016-12-30  38.720001  38.430000  39.000000  38.669998\n",
            "\n",
            "[1762 rows x 4 columns]\n"
          ],
          "name": "stdout"
        }
      ]
    },
    {
      "cell_type": "code",
      "metadata": {
        "colab": {
          "base_uri": "https://localhost:8080/"
        },
        "id": "QfTQdSmCvWd2",
        "outputId": "8b46cb52-c990-4027-aae4-b3c86188e01c"
      },
      "source": [
        "# preparing label data\n",
        "'''該處位移，是將原後一天的價格挪移到當天的收盤價\n",
        "用意為: 蒐集前一天之價格資訊，以用作預測隔一日之收盤價'''\n",
        "yahoo_shift = yahoo.shift(-1)\n",
        "label = yahoo_shift['close']\n",
        "\n",
        "print(label)"
      ],
      "execution_count": null,
      "outputs": [
        {
          "output_type": "stream",
          "text": [
            "date\n",
            "2010-01-04    17.230000\n",
            "2010-01-05    17.170000\n",
            "2010-01-06    16.700001\n",
            "2010-01-07    16.700001\n",
            "2010-01-08    16.740000\n",
            "                ...    \n",
            "2016-12-23    38.919998\n",
            "2016-12-27    38.730000\n",
            "2016-12-28    38.639999\n",
            "2016-12-29    38.669998\n",
            "2016-12-30          NaN\n",
            "Name: close, Length: 1762, dtype: float64\n"
          ],
          "name": "stdout"
        }
      ]
    },
    {
      "cell_type": "code",
      "metadata": {
        "colab": {
          "base_uri": "https://localhost:8080/"
        },
        "id": "0CsXmiO2vWge",
        "outputId": "6db268f6-9b4a-4a84-eec7-8eb28cb07db3"
      },
      "source": [
        "# adjusting the shape of both\n",
        "yahoo.drop(yahoo.index[len(yahoo)-1], axis=0, inplace=True) # 將最後一行丟掉\n",
        "label.drop(label.index[len(label)-1], axis=0, inplace=True) # 將最後一行丟掉\n",
        "\n",
        "print(yahoo)\n",
        "print(label)\n"
      ],
      "execution_count": null,
      "outputs": [
        {
          "output_type": "stream",
          "text": [
            "                 open        low       high      close\n",
            "date                                                  \n",
            "2010-01-04  16.940001  16.879999  17.200001  17.100000\n",
            "2010-01-05  17.219999  17.000000  17.230000  17.230000\n",
            "2010-01-06  17.170000  17.070000  17.299999  17.170000\n",
            "2010-01-07  16.809999  16.570000  16.900000  16.700001\n",
            "2010-01-08  16.680000  16.620001  16.760000  16.700001\n",
            "...               ...        ...        ...        ...\n",
            "2016-12-22  38.689999  38.259998  38.790001  38.500000\n",
            "2016-12-23  38.459999  38.369999  38.810001  38.660000\n",
            "2016-12-27  38.590000  38.500000  39.070000  38.919998\n",
            "2016-12-28  39.119999  38.709999  39.220001  38.730000\n",
            "2016-12-29  38.759998  38.480000  38.930000  38.639999\n",
            "\n",
            "[1761 rows x 4 columns]\n",
            "date\n",
            "2010-01-04    17.230000\n",
            "2010-01-05    17.170000\n",
            "2010-01-06    16.700001\n",
            "2010-01-07    16.700001\n",
            "2010-01-08    16.740000\n",
            "                ...    \n",
            "2016-12-22    38.660000\n",
            "2016-12-23    38.919998\n",
            "2016-12-27    38.730000\n",
            "2016-12-28    38.639999\n",
            "2016-12-29    38.669998\n",
            "Name: close, Length: 1761, dtype: float64\n"
          ],
          "name": "stdout"
        }
      ]
    },
    {
      "cell_type": "code",
      "metadata": {
        "colab": {
          "base_uri": "https://localhost:8080/",
          "height": 203
        },
        "id": "3iNpya4f1Rk7",
        "outputId": "afeee2c8-565b-40c4-a64e-49a66fc6fac7"
      },
      "source": [
        "yahoo = yahoo[yahoo.index < \"2010-01-08\"]\n",
        "label = label[label.index < \"2010-01-08\"]\n",
        "yahoo"
      ],
      "execution_count": null,
      "outputs": [
        {
          "output_type": "execute_result",
          "data": {
            "text/html": [
              "<div>\n",
              "<style scoped>\n",
              "    .dataframe tbody tr th:only-of-type {\n",
              "        vertical-align: middle;\n",
              "    }\n",
              "\n",
              "    .dataframe tbody tr th {\n",
              "        vertical-align: top;\n",
              "    }\n",
              "\n",
              "    .dataframe thead th {\n",
              "        text-align: right;\n",
              "    }\n",
              "</style>\n",
              "<table border=\"1\" class=\"dataframe\">\n",
              "  <thead>\n",
              "    <tr style=\"text-align: right;\">\n",
              "      <th></th>\n",
              "      <th>open</th>\n",
              "      <th>low</th>\n",
              "      <th>high</th>\n",
              "      <th>close</th>\n",
              "    </tr>\n",
              "    <tr>\n",
              "      <th>date</th>\n",
              "      <th></th>\n",
              "      <th></th>\n",
              "      <th></th>\n",
              "      <th></th>\n",
              "    </tr>\n",
              "  </thead>\n",
              "  <tbody>\n",
              "    <tr>\n",
              "      <th>2010-01-04</th>\n",
              "      <td>16.940001</td>\n",
              "      <td>16.879999</td>\n",
              "      <td>17.200001</td>\n",
              "      <td>17.100000</td>\n",
              "    </tr>\n",
              "    <tr>\n",
              "      <th>2010-01-05</th>\n",
              "      <td>17.219999</td>\n",
              "      <td>17.000000</td>\n",
              "      <td>17.230000</td>\n",
              "      <td>17.230000</td>\n",
              "    </tr>\n",
              "    <tr>\n",
              "      <th>2010-01-06</th>\n",
              "      <td>17.170000</td>\n",
              "      <td>17.070000</td>\n",
              "      <td>17.299999</td>\n",
              "      <td>17.170000</td>\n",
              "    </tr>\n",
              "    <tr>\n",
              "      <th>2010-01-07</th>\n",
              "      <td>16.809999</td>\n",
              "      <td>16.570000</td>\n",
              "      <td>16.900000</td>\n",
              "      <td>16.700001</td>\n",
              "    </tr>\n",
              "  </tbody>\n",
              "</table>\n",
              "</div>"
            ],
            "text/plain": [
              "                 open        low       high      close\n",
              "date                                                  \n",
              "2010-01-04  16.940001  16.879999  17.200001  17.100000\n",
              "2010-01-05  17.219999  17.000000  17.230000  17.230000\n",
              "2010-01-06  17.170000  17.070000  17.299999  17.170000\n",
              "2010-01-07  16.809999  16.570000  16.900000  16.700001"
            ]
          },
          "metadata": {
            "tags": []
          },
          "execution_count": 24
        }
      ]
    },
    {
      "cell_type": "code",
      "metadata": {
        "colab": {
          "base_uri": "https://localhost:8080/"
        },
        "id": "p0p24txIxzgw",
        "outputId": "8922e919-8c05-4cfd-f36c-f1df1d47b8b4"
      },
      "source": [
        "# conversion to numpy array\n",
        "x, y = yahoo.values, label.values\n",
        "\n",
        "print(yahoo.values)\n",
        "print(label.values)"
      ],
      "execution_count": null,
      "outputs": [
        {
          "output_type": "stream",
          "text": [
            "[[16.940001 16.879999 17.200001 17.1     ]\n",
            " [17.219999 17.       17.23     17.23    ]\n",
            " [17.17     17.07     17.299999 17.17    ]\n",
            " [16.809999 16.57     16.9      16.700001]]\n",
            "[17.23     17.17     16.700001 16.700001]\n"
          ],
          "name": "stdout"
        }
      ]
    },
    {
      "cell_type": "code",
      "metadata": {
        "id": "pubqHcgWyFRg"
      },
      "source": [
        "# scaling values for model\n",
        "x_scale = MinMaxScaler()\n",
        "y_scale = MinMaxScaler()\n",
        "\n",
        "X = x_scale.fit_transform(x)\n",
        "Y = y_scale.fit_transform(y.reshape(-1,1)) # 除了MinMax外， 將原y轉正"
      ],
      "execution_count": null,
      "outputs": []
    },
    {
      "cell_type": "code",
      "metadata": {
        "colab": {
          "base_uri": "https://localhost:8080/"
        },
        "id": "JbbssInKymDW",
        "outputId": "36cc0ea6-fb5e-4d03-fafb-bf5039d69ece"
      },
      "source": [
        "# splitting train and test\n",
        "X_train, X_test, y_train, y_test = train_test_split(X, Y, test_size=0.33)\n",
        "X_train"
      ],
      "execution_count": null,
      "outputs": [
        {
          "output_type": "execute_result",
          "data": {
            "text/plain": [
              "array([[1.        , 0.86      , 0.82500206, 1.        ],\n",
              "       [0.        , 0.        , 0.        , 0.        ]])"
            ]
          },
          "metadata": {
            "tags": []
          },
          "execution_count": 27
        }
      ]
    },
    {
      "cell_type": "code",
      "metadata": {
        "colab": {
          "base_uri": "https://localhost:8080/"
        },
        "id": "bJ-Dt92LyoGK",
        "outputId": "79fba38d-b202-4270-98ce-a116c4ff8f4f"
      },
      "source": [
        "X_train = X_train.reshape((-1,1,4))\n",
        "X_test = X_test.reshape((-1,1,4))\n",
        "X_train"
      ],
      "execution_count": null,
      "outputs": [
        {
          "output_type": "execute_result",
          "data": {
            "text/plain": [
              "array([[[1.        , 0.63158089, 0.299996  , 1.        ]],\n",
              "\n",
              "       [[0.        , 0.        , 0.        , 0.        ]]])"
            ]
          },
          "metadata": {
            "tags": []
          },
          "execution_count": 19
        }
      ]
    },
    {
      "cell_type": "code",
      "metadata": {
        "colab": {
          "base_uri": "https://localhost:8080/"
        },
        "id": "fVj0mrfSr9Bx",
        "outputId": "a8d47d72-5f12-41e2-ed3f-bab7d94441f9"
      },
      "source": [
        "\n",
        "\n",
        "print(\"X_train shape:\", X_train.shape)\n",
        "print(\"y_train shape:\", y_train.shape)\n",
        "print(\"X_test shape:\", X_test.shape)\n",
        "\n",
        "# # creating model using Keras\n",
        "# # tf.reset_default_graph()\n",
        "\n",
        "# model_name = 'stock_price_GRU'\n",
        "\n",
        "# model = Sequential()\n",
        "# model.add(GRU(units=512,\n",
        "#               return_sequences=True,\n",
        "#               input_shape=(1, 4)))\n",
        "# model.add(Dropout(0.2))\n",
        "# model.add(GRU(units=256))\n",
        "# model.add(Dropout(0.2))\n",
        "# model.add(Dense(1, activation='sigmoid'))\n",
        "# model.compile(loss='mse', optimizer='adam')\n",
        "\n",
        "# # model = load_model(\"{}.h5\".format(model_name))\n",
        "# # print(\"MODEL-LOADED\")\n",
        "\n",
        "# model.fit(X_train,y_train,batch_size=250, epochs=500, validation_split=0.1, verbose=1)\n",
        "# model.save(\"{}.h5\".format(model_name))\n",
        "# print('MODEL-SAVED')\n",
        "\n",
        "# score = model.evaluate(X_test, y_test)\n",
        "# print('Score: {}'.format(score))\n",
        "# yhat = model.predict(X_test)\n",
        "# yhat = y_scale.inverse_transform(yhat)\n",
        "# y_test = y_scale.inverse_transform(y_test)\n",
        "# plt.plot(yhat[-100:], label='Predicted')\n",
        "# plt.plot(y_test[-100:], label='Ground Truth')\n",
        "# plt.legend()\n",
        "# plt.show()"
      ],
      "execution_count": null,
      "outputs": [
        {
          "output_type": "stream",
          "text": [
            "X_train shape: (2, 1, 4)\n",
            "y_train shape: (2, 1)\n",
            "X_test shape: (1, 1, 4)\n"
          ],
          "name": "stdout"
        }
      ]
    }
  ]
}