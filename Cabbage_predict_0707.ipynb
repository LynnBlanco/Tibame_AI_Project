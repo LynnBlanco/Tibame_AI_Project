{
  "nbformat": 4,
  "nbformat_minor": 0,
  "metadata": {
    "colab": {
      "name": "Cabbage_predict_0707.ipynb",
      "provenance": [],
      "collapsed_sections": [],
      "authorship_tag": "ABX9TyOAIbK7rJpEtwPcUW9pXpvS",
      "include_colab_link": true
    },
    "kernelspec": {
      "name": "python3",
      "display_name": "Python 3"
    },
    "language_info": {
      "name": "python"
    },
    "accelerator": "GPU"
  },
  "cells": [
    {
      "cell_type": "markdown",
      "metadata": {
        "id": "view-in-github",
        "colab_type": "text"
      },
      "source": [
        "<a href=\"https://colab.research.google.com/github/Yi-Wei-Lin/Tibame_AI_Project/blob/main/Cabbage_predict_0707.ipynb\" target=\"_parent\"><img src=\"https://colab.research.google.com/assets/colab-badge.svg\" alt=\"Open In Colab\"/></a>"
      ]
    },
    {
      "cell_type": "code",
      "metadata": {
        "id": "i1kIpPvPSBU9"
      },
      "source": [
        "import numpy as np\n",
        "import matplotlib.pyplot as plt\n",
        "import pandas as pd\n",
        "from sklearn.preprocessing import MinMaxScaler"
      ],
      "execution_count": 309,
      "outputs": []
    },
    {
      "cell_type": "code",
      "metadata": {
        "id": "0fNFBa0VTW1i"
      },
      "source": [
        "data = pd.read_excel(\"Cabbage.xlsx\")"
      ],
      "execution_count": null,
      "outputs": []
    },
    {
      "cell_type": "code",
      "metadata": {
        "id": "XJ3h7hWdT2l7"
      },
      "source": [
        "data = data.dropna()\n",
        "data = data.loc[data[\"Market\"] == \"台北一\"]\n",
        "np.array(data[\"Avg_price\"]).reshape(-1,1)"
      ],
      "execution_count": null,
      "outputs": []
    },
    {
      "cell_type": "code",
      "metadata": {
        "id": "c-e9EOm0WIuS"
      },
      "source": [
        "data_train = data[data[\"Date\"] < \"2019-01-01\"]\n",
        "data_test = data[data[\"Date\"] >= \"2019-01-01\"]"
      ],
      "execution_count": null,
      "outputs": []
    },
    {
      "cell_type": "code",
      "metadata": {
        "id": "PHkweN_gW84H"
      },
      "source": [
        "data_train = data_train.drop([\"Date\", \"Market\", \"Product\", \"Month\", \"Week_day\", \"Year\", \"Rest_day\"], axis=1)\n",
        "data_train"
      ],
      "execution_count": null,
      "outputs": []
    },
    {
      "cell_type": "code",
      "metadata": {
        "id": "JO-5YfElYQcK"
      },
      "source": [
        "# from tensorflow.keras.utils import to_categorical\n",
        "# pd.DataFrame(to_categorical(data_train[\"Month\"]))"
      ],
      "execution_count": null,
      "outputs": []
    },
    {
      "cell_type": "code",
      "metadata": {
        "id": "4TrSiVH2ZnVk"
      },
      "source": [
        "Xscaler = MinMaxScaler()\n",
        "Yscaler = MinMaxScaler()\n",
        "ytrain = np.array(data_train[\"Avg_price\"]).reshape(-1,1)\n",
        "data_xtrain = Xscaler.fit_transform(data_train.drop([\"Avg_price\"],axis=1))\n",
        "data_ytrain = Yscaler.fit_transform(ytrain)"
      ],
      "execution_count": null,
      "outputs": []
    },
    {
      "cell_type": "code",
      "metadata": {
        "id": "IWNokHwdx4Yq"
      },
      "source": [
        "data_train = np.concatenate((data_xtrain, data_ytrain), axis=1)"
      ],
      "execution_count": null,
      "outputs": []
    },
    {
      "cell_type": "code",
      "metadata": {
        "id": "VZ9XJ3hVZncf"
      },
      "source": [
        "x_train = []\n",
        "y_train = []\n",
        "time_step = 60\n",
        "for i in range(len(data_train) - time_step):\n",
        "  x_train.append(data_train[i:(i+time_step)])\n",
        "  y_train.append(data_train[(i+time_step)][-1])\n",
        "x_train, y_train = np.array(x_train), np.array(y_train).reshape(-1,1)"
      ],
      "execution_count": null,
      "outputs": []
    },
    {
      "cell_type": "code",
      "metadata": {
        "id": "MSgBUOoxak0-"
      },
      "source": [
        "# Building LSTM model\n",
        "from tensorflow.keras import Sequential\n",
        "from tensorflow.keras.layers import LSTM, Dense, Dropout\n",
        "layers = [\n",
        "    LSTM(units=12, activation=\"relu\", return_sequences=True, input_shape=(x_train.shape[1], x_train.shape[2])),\n",
        "    Dropout(0.2),\n",
        "    LSTM(units=24, activation=\"relu\", return_sequences=True),\n",
        "    Dropout(0.2),\n",
        "    LSTM(units=48, activation=\"relu\", return_sequences=True),\n",
        "    Dropout(0.2),\n",
        "    LSTM(units=96, activation=\"relu\"),\n",
        "    Dropout(0.2),\n",
        "    Dense(units=1)\n",
        "]\n",
        "regressor = Sequential(layers)\n",
        "regressor.summary()"
      ],
      "execution_count": null,
      "outputs": []
    },
    {
      "cell_type": "code",
      "metadata": {
        "id": "GVYzbTuYjvDo"
      },
      "source": [
        "from tensorflow.keras.optimizers import Adam\n",
        "from tensorflow.keras.losses import MeanSquaredError\n",
        "from keras.callbacks import EarlyStopping, ModelCheckpoint\n",
        "regressor.compile(loss = 'mean_squared_error',\n",
        "         optimizer = Adam()                   \n",
        ")\n",
        "callback = [\n",
        "    EarlyStopping(patience=5, restore_best_weights=True),\n",
        "    ModelCheckpoint(\"regressor.h5\", save_best_only=True)\n",
        "]\n",
        "regressor.fit(x_train, y_train, epochs=20, batch_size=32, callbacks=callback)"
      ],
      "execution_count": null,
      "outputs": []
    },
    {
      "cell_type": "code",
      "metadata": {
        "id": "IToWdK6qlAvc"
      },
      "source": [
        "past_60_days = data[data[\"Date\"] < \"2019-01-01\"].tail(time_step)\n",
        "df = past_60_days.append(data_test, ignore_index = True)\n",
        "df = df.drop([\"Date\", \"Market\", \"Product\", \"Month\", \"Week_day\", \"Year\", \"Rest_day\"], axis=1)\n",
        "df"
      ],
      "execution_count": null,
      "outputs": []
    },
    {
      "cell_type": "code",
      "metadata": {
        "id": "yriZTYBcl57c"
      },
      "source": [
        "real_avg_price = np.array(df.iloc[time_step:][\"Avg_price\"]).reshape(-1,1)\n",
        "ytest = np.array(df[\"Avg_price\"]).reshape(-1,1)\n",
        "x_inputs = Xscaler.transform(df.drop([\"Avg_price\"], axis=1))\n",
        "y_inputs = Yscaler.transform(ytest)"
      ],
      "execution_count": null,
      "outputs": []
    },
    {
      "cell_type": "code",
      "metadata": {
        "id": "h_w3Cy795J43"
      },
      "source": [
        "inputs = np.concatenate((x_inputs, y_inputs), axis=1)"
      ],
      "execution_count": null,
      "outputs": []
    },
    {
      "cell_type": "code",
      "metadata": {
        "id": "rc3ClSFemAES"
      },
      "source": [
        "x_test = []\n",
        "y_test = []\n",
        "time_step = 60\n",
        "for i in range(len(inputs) - time_step):\n",
        "  x_test.append(inputs[i:(i+time_step)])\n",
        "  y_test.append(inputs[(i+time_step)][-1])\n",
        "yy = y_test\n",
        "x_test, y_test = np.array(x_test), np.array(y_test).reshape(-1,1)"
      ],
      "execution_count": null,
      "outputs": []
    },
    {
      "cell_type": "code",
      "metadata": {
        "id": "6_MlX5bxoLC9"
      },
      "source": [
        "pre_price = regressor.predict(x_test)\n",
        "pre_price = Yscaler.inverse_transform(pre_price)"
      ],
      "execution_count": null,
      "outputs": []
    },
    {
      "cell_type": "code",
      "metadata": {
        "id": "aoj0t9rbBTu2"
      },
      "source": [
        "# Visualising the results\n",
        "plt.figure(figsize=(14,5))\n",
        "plt.plot(real_avg_price, color = 'red', label = 'Real Cabbage Price')\n",
        "plt.plot(pre_price, color = 'blue', label = 'Predicted Cabbage Price')\n",
        "plt.title('Cabbage Price Prediction')\n",
        "plt.xlabel('Time')\n",
        "plt.ylabel('Cabbage Price')\n",
        "plt.legend()\n",
        "plt.show()"
      ],
      "execution_count": null,
      "outputs": []
    }
  ]
}