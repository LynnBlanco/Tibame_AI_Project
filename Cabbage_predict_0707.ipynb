{
  "nbformat": 4,
  "nbformat_minor": 0,
  "metadata": {
    "colab": {
      "name": "Cabbage_predict_0707.ipynb",
      "provenance": [],
      "collapsed_sections": [],
      "authorship_tag": "ABX9TyP9rMFPDKZEkk06Azi0+sYg",
      "include_colab_link": true
    },
    "kernelspec": {
      "name": "python3",
      "display_name": "Python 3"
    },
    "language_info": {
      "name": "python"
    },
    "accelerator": "GPU"
  },
  "cells": [
    {
      "cell_type": "markdown",
      "metadata": {
        "id": "view-in-github",
        "colab_type": "text"
      },
      "source": [
        "<a href=\"https://colab.research.google.com/github/Yi-Wei-Lin/Tibame_AI_Project/blob/main/Cabbage_predict_0707.ipynb\" target=\"_parent\"><img src=\"https://colab.research.google.com/assets/colab-badge.svg\" alt=\"Open In Colab\"/></a>"
      ]
    },
    {
      "cell_type": "code",
      "metadata": {
        "id": "i1kIpPvPSBU9"
      },
      "source": [
        "import numpy as np\n",
        "import matplotlib.pyplot as plt\n",
        "import pandas as pd\n",
        "from sklearn.preprocessing import MinMaxScaler"
      ],
      "execution_count": 326,
      "outputs": []
    },
    {
      "cell_type": "code",
      "metadata": {
        "id": "0fNFBa0VTW1i"
      },
      "source": [
        "data = pd.read_excel(\"Cabbage.xlsx\")"
      ],
      "execution_count": 327,
      "outputs": []
    },
    {
      "cell_type": "code",
      "metadata": {
        "colab": {
          "base_uri": "https://localhost:8080/"
        },
        "id": "XJ3h7hWdT2l7",
        "outputId": "a20aaea5-7ade-427c-ea49-6803c551a523"
      },
      "source": [
        "data = data.dropna()\n",
        "data = data.loc[data[\"Market\"] == \"台北一\"]\n",
        "np.array(data[\"Avg_price\"]).reshape(-1,1)"
      ],
      "execution_count": 328,
      "outputs": [
        {
          "output_type": "execute_result",
          "data": {
            "text/plain": [
              "array([[ 8.9],\n",
              "       [ 7.2],\n",
              "       [ 6.7],\n",
              "       ...,\n",
              "       [15.1],\n",
              "       [15.1],\n",
              "       [15.5]])"
            ]
          },
          "metadata": {
            "tags": []
          },
          "execution_count": 328
        }
      ]
    },
    {
      "cell_type": "code",
      "metadata": {
        "id": "c-e9EOm0WIuS"
      },
      "source": [
        "data_train = data[data[\"Date\"] < \"2019-01-01\"]\n",
        "data_test = data[data[\"Date\"] >= \"2019-01-01\"]"
      ],
      "execution_count": 329,
      "outputs": []
    },
    {
      "cell_type": "code",
      "metadata": {
        "colab": {
          "base_uri": "https://localhost:8080/",
          "height": 419
        },
        "id": "PHkweN_gW84H",
        "outputId": "b4368e8d-dab9-43bd-aee8-bdaaeb1f6c22"
      },
      "source": [
        "data_train = data_train.drop([\"Date\", \"Market\", \"Product\", \"Month\", \"Week_day\", \"Year\", \"Rest_day\"], axis=1)\n",
        "data_train"
      ],
      "execution_count": 330,
      "outputs": [
        {
          "output_type": "execute_result",
          "data": {
            "text/html": [
              "<div>\n",
              "<style scoped>\n",
              "    .dataframe tbody tr th:only-of-type {\n",
              "        vertical-align: middle;\n",
              "    }\n",
              "\n",
              "    .dataframe tbody tr th {\n",
              "        vertical-align: top;\n",
              "    }\n",
              "\n",
              "    .dataframe thead th {\n",
              "        text-align: right;\n",
              "    }\n",
              "</style>\n",
              "<table border=\"1\" class=\"dataframe\">\n",
              "  <thead>\n",
              "    <tr style=\"text-align: right;\">\n",
              "      <th></th>\n",
              "      <th>Up_price</th>\n",
              "      <th>Mid_price</th>\n",
              "      <th>Low_price</th>\n",
              "      <th>Avg_price</th>\n",
              "      <th>Volume</th>\n",
              "    </tr>\n",
              "  </thead>\n",
              "  <tbody>\n",
              "    <tr>\n",
              "      <th>39204</th>\n",
              "      <td>11.0</td>\n",
              "      <td>8.0</td>\n",
              "      <td>5.0</td>\n",
              "      <td>8.9</td>\n",
              "      <td>192029.0</td>\n",
              "    </tr>\n",
              "    <tr>\n",
              "      <th>39205</th>\n",
              "      <td>9.0</td>\n",
              "      <td>7.0</td>\n",
              "      <td>4.0</td>\n",
              "      <td>7.2</td>\n",
              "      <td>174270.0</td>\n",
              "    </tr>\n",
              "    <tr>\n",
              "      <th>39206</th>\n",
              "      <td>8.0</td>\n",
              "      <td>6.0</td>\n",
              "      <td>3.0</td>\n",
              "      <td>6.7</td>\n",
              "      <td>125426.0</td>\n",
              "    </tr>\n",
              "    <tr>\n",
              "      <th>39207</th>\n",
              "      <td>10.0</td>\n",
              "      <td>7.0</td>\n",
              "      <td>4.0</td>\n",
              "      <td>7.1</td>\n",
              "      <td>119318.0</td>\n",
              "    </tr>\n",
              "    <tr>\n",
              "      <th>39208</th>\n",
              "      <td>9.0</td>\n",
              "      <td>7.0</td>\n",
              "      <td>5.0</td>\n",
              "      <td>6.8</td>\n",
              "      <td>118178.0</td>\n",
              "    </tr>\n",
              "    <tr>\n",
              "      <th>...</th>\n",
              "      <td>...</td>\n",
              "      <td>...</td>\n",
              "      <td>...</td>\n",
              "      <td>...</td>\n",
              "      <td>...</td>\n",
              "    </tr>\n",
              "    <tr>\n",
              "      <th>46137</th>\n",
              "      <td>10.5</td>\n",
              "      <td>5.9</td>\n",
              "      <td>2.5</td>\n",
              "      <td>6.1</td>\n",
              "      <td>170578.0</td>\n",
              "    </tr>\n",
              "    <tr>\n",
              "      <th>46138</th>\n",
              "      <td>9.4</td>\n",
              "      <td>5.8</td>\n",
              "      <td>2.7</td>\n",
              "      <td>5.9</td>\n",
              "      <td>170145.0</td>\n",
              "    </tr>\n",
              "    <tr>\n",
              "      <th>46139</th>\n",
              "      <td>9.6</td>\n",
              "      <td>5.2</td>\n",
              "      <td>2.8</td>\n",
              "      <td>5.6</td>\n",
              "      <td>176992.0</td>\n",
              "    </tr>\n",
              "    <tr>\n",
              "      <th>46140</th>\n",
              "      <td>10.2</td>\n",
              "      <td>5.5</td>\n",
              "      <td>2.4</td>\n",
              "      <td>5.8</td>\n",
              "      <td>195142.0</td>\n",
              "    </tr>\n",
              "    <tr>\n",
              "      <th>46141</th>\n",
              "      <td>14.1</td>\n",
              "      <td>8.6</td>\n",
              "      <td>4.5</td>\n",
              "      <td>8.9</td>\n",
              "      <td>158519.0</td>\n",
              "    </tr>\n",
              "  </tbody>\n",
              "</table>\n",
              "<p>5771 rows × 5 columns</p>\n",
              "</div>"
            ],
            "text/plain": [
              "       Up_price  Mid_price  Low_price  Avg_price    Volume\n",
              "39204      11.0        8.0        5.0        8.9  192029.0\n",
              "39205       9.0        7.0        4.0        7.2  174270.0\n",
              "39206       8.0        6.0        3.0        6.7  125426.0\n",
              "39207      10.0        7.0        4.0        7.1  119318.0\n",
              "39208       9.0        7.0        5.0        6.8  118178.0\n",
              "...         ...        ...        ...        ...       ...\n",
              "46137      10.5        5.9        2.5        6.1  170578.0\n",
              "46138       9.4        5.8        2.7        5.9  170145.0\n",
              "46139       9.6        5.2        2.8        5.6  176992.0\n",
              "46140      10.2        5.5        2.4        5.8  195142.0\n",
              "46141      14.1        8.6        4.5        8.9  158519.0\n",
              "\n",
              "[5771 rows x 5 columns]"
            ]
          },
          "metadata": {
            "tags": []
          },
          "execution_count": 330
        }
      ]
    },
    {
      "cell_type": "code",
      "metadata": {
        "id": "JO-5YfElYQcK"
      },
      "source": [
        "# from tensorflow.keras.utils import to_categorical\n",
        "# pd.DataFrame(to_categorical(data_train[\"Month\"]))"
      ],
      "execution_count": 331,
      "outputs": []
    },
    {
      "cell_type": "code",
      "metadata": {
        "id": "4TrSiVH2ZnVk"
      },
      "source": [
        "Xscaler = MinMaxScaler()\n",
        "Yscaler = MinMaxScaler()\n",
        "ytrain = np.array(data_train[\"Avg_price\"]).reshape(-1,1)\n",
        "data_xtrain = Xscaler.fit_transform(data_train.drop([\"Avg_price\"],axis=1))\n",
        "data_ytrain = Yscaler.fit_transform(ytrain)"
      ],
      "execution_count": 332,
      "outputs": []
    },
    {
      "cell_type": "code",
      "metadata": {
        "id": "IWNokHwdx4Yq"
      },
      "source": [
        "data_train = np.concatenate((data_xtrain, data_ytrain), axis=1)"
      ],
      "execution_count": 333,
      "outputs": []
    },
    {
      "cell_type": "code",
      "metadata": {
        "id": "VZ9XJ3hVZncf"
      },
      "source": [
        "x_train = []\n",
        "y_train = []\n",
        "time_step = 60\n",
        "for i in range(len(data_train) - time_step):\n",
        "  x_train.append(data_train[i:(i+time_step)])\n",
        "  y_train.append(data_train[(i+time_step)][-1])\n",
        "x_train, y_train = np.array(x_train), np.array(y_train).reshape(-1,1)"
      ],
      "execution_count": 334,
      "outputs": []
    },
    {
      "cell_type": "code",
      "metadata": {
        "colab": {
          "base_uri": "https://localhost:8080/"
        },
        "id": "MSgBUOoxak0-",
        "outputId": "0e5c6a89-2f4d-484b-8556-63271874b556"
      },
      "source": [
        "# Building LSTM model\n",
        "from tensorflow.keras import Sequential\n",
        "from tensorflow.keras.layers import LSTM, Dense, Dropout\n",
        "layers = [\n",
        "    LSTM(units=12, activation=\"relu\", return_sequences=True, input_shape=(x_train.shape[1], x_train.shape[2])),\n",
        "    Dropout(0.2),\n",
        "    LSTM(units=24, activation=\"relu\", return_sequences=True),\n",
        "    Dropout(0.2),\n",
        "    LSTM(units=48, activation=\"relu\", return_sequences=True),\n",
        "    Dropout(0.2),\n",
        "    LSTM(units=96, activation=\"relu\"),\n",
        "    Dropout(0.2),\n",
        "    Dense(units=1)\n",
        "]\n",
        "regressor = Sequential(layers)\n",
        "regressor.summary()"
      ],
      "execution_count": 335,
      "outputs": [
        {
          "output_type": "stream",
          "text": [
            "WARNING:tensorflow:Layer lstm_24 will not use cuDNN kernels since it doesn't meet the criteria. It will use a generic GPU kernel as fallback when running on GPU.\n",
            "WARNING:tensorflow:Layer lstm_25 will not use cuDNN kernels since it doesn't meet the criteria. It will use a generic GPU kernel as fallback when running on GPU.\n",
            "WARNING:tensorflow:Layer lstm_26 will not use cuDNN kernels since it doesn't meet the criteria. It will use a generic GPU kernel as fallback when running on GPU.\n",
            "WARNING:tensorflow:Layer lstm_27 will not use cuDNN kernels since it doesn't meet the criteria. It will use a generic GPU kernel as fallback when running on GPU.\n",
            "Model: \"sequential_6\"\n",
            "_________________________________________________________________\n",
            "Layer (type)                 Output Shape              Param #   \n",
            "=================================================================\n",
            "lstm_24 (LSTM)               (None, 60, 12)            864       \n",
            "_________________________________________________________________\n",
            "dropout_24 (Dropout)         (None, 60, 12)            0         \n",
            "_________________________________________________________________\n",
            "lstm_25 (LSTM)               (None, 60, 24)            3552      \n",
            "_________________________________________________________________\n",
            "dropout_25 (Dropout)         (None, 60, 24)            0         \n",
            "_________________________________________________________________\n",
            "lstm_26 (LSTM)               (None, 60, 48)            14016     \n",
            "_________________________________________________________________\n",
            "dropout_26 (Dropout)         (None, 60, 48)            0         \n",
            "_________________________________________________________________\n",
            "lstm_27 (LSTM)               (None, 96)                55680     \n",
            "_________________________________________________________________\n",
            "dropout_27 (Dropout)         (None, 96)                0         \n",
            "_________________________________________________________________\n",
            "dense_6 (Dense)              (None, 1)                 97        \n",
            "=================================================================\n",
            "Total params: 74,209\n",
            "Trainable params: 74,209\n",
            "Non-trainable params: 0\n",
            "_________________________________________________________________\n"
          ],
          "name": "stdout"
        }
      ]
    },
    {
      "cell_type": "code",
      "metadata": {
        "colab": {
          "base_uri": "https://localhost:8080/"
        },
        "id": "GVYzbTuYjvDo",
        "outputId": "44611117-929c-4995-864f-a4123f3b1c65"
      },
      "source": [
        "from tensorflow.keras.optimizers import Adam\n",
        "from tensorflow.keras.losses import MeanSquaredError\n",
        "from keras.callbacks import EarlyStopping, ModelCheckpoint\n",
        "regressor.compile(loss = 'mean_squared_error',\n",
        "         optimizer = Adam(),\n",
        "         metrics=[\"mse\"]                   \n",
        ")\n",
        "callback = [\n",
        "    EarlyStopping(patience=5, restore_best_weights=True),\n",
        "    ModelCheckpoint(\"regressor.h5\", save_best_only=True)\n",
        "]\n",
        "regressor.fit(x_train, y_train, epochs=3, batch_size=32, callbacks=callback)"
      ],
      "execution_count": 336,
      "outputs": [
        {
          "output_type": "stream",
          "text": [
            "Epoch 1/3\n",
            "179/179 [==============================] - 95s 505ms/step - loss: 0.0125 - mse: 0.0125\n",
            "WARNING:tensorflow:Early stopping conditioned on metric `val_loss` which is not available. Available metrics are: loss,mse\n",
            "WARNING:tensorflow:Can save best model only with val_loss available, skipping.\n",
            "Epoch 2/3\n",
            "179/179 [==============================] - 90s 503ms/step - loss: 0.0065 - mse: 0.0065\n",
            "WARNING:tensorflow:Early stopping conditioned on metric `val_loss` which is not available. Available metrics are: loss,mse\n",
            "WARNING:tensorflow:Can save best model only with val_loss available, skipping.\n",
            "Epoch 3/3\n",
            "179/179 [==============================] - 91s 507ms/step - loss: 0.0058 - mse: 0.0058\n",
            "WARNING:tensorflow:Early stopping conditioned on metric `val_loss` which is not available. Available metrics are: loss,mse\n",
            "WARNING:tensorflow:Can save best model only with val_loss available, skipping.\n"
          ],
          "name": "stdout"
        },
        {
          "output_type": "execute_result",
          "data": {
            "text/plain": [
              "<tensorflow.python.keras.callbacks.History at 0x7fd7d086d410>"
            ]
          },
          "metadata": {
            "tags": []
          },
          "execution_count": 336
        }
      ]
    },
    {
      "cell_type": "code",
      "metadata": {
        "colab": {
          "base_uri": "https://localhost:8080/",
          "height": 419
        },
        "id": "IToWdK6qlAvc",
        "outputId": "7f2aa003-7f9c-4967-85a7-946477e1367a"
      },
      "source": [
        "past_60_days = data[data[\"Date\"] < \"2019-01-01\"].tail(time_step)\n",
        "df = past_60_days.append(data_test, ignore_index = True)\n",
        "df = df.drop([\"Date\", \"Market\", \"Product\", \"Month\", \"Week_day\", \"Year\", \"Rest_day\"], axis=1)\n",
        "df"
      ],
      "execution_count": 337,
      "outputs": [
        {
          "output_type": "execute_result",
          "data": {
            "text/html": [
              "<div>\n",
              "<style scoped>\n",
              "    .dataframe tbody tr th:only-of-type {\n",
              "        vertical-align: middle;\n",
              "    }\n",
              "\n",
              "    .dataframe tbody tr th {\n",
              "        vertical-align: top;\n",
              "    }\n",
              "\n",
              "    .dataframe thead th {\n",
              "        text-align: right;\n",
              "    }\n",
              "</style>\n",
              "<table border=\"1\" class=\"dataframe\">\n",
              "  <thead>\n",
              "    <tr style=\"text-align: right;\">\n",
              "      <th></th>\n",
              "      <th>Up_price</th>\n",
              "      <th>Mid_price</th>\n",
              "      <th>Low_price</th>\n",
              "      <th>Avg_price</th>\n",
              "      <th>Volume</th>\n",
              "    </tr>\n",
              "  </thead>\n",
              "  <tbody>\n",
              "    <tr>\n",
              "      <th>0</th>\n",
              "      <td>38.2</td>\n",
              "      <td>27.1</td>\n",
              "      <td>18.4</td>\n",
              "      <td>27.6</td>\n",
              "      <td>53680.0</td>\n",
              "    </tr>\n",
              "    <tr>\n",
              "      <th>1</th>\n",
              "      <td>35.9</td>\n",
              "      <td>24.9</td>\n",
              "      <td>14.4</td>\n",
              "      <td>25.0</td>\n",
              "      <td>49751.0</td>\n",
              "    </tr>\n",
              "    <tr>\n",
              "      <th>2</th>\n",
              "      <td>34.5</td>\n",
              "      <td>25.7</td>\n",
              "      <td>13.2</td>\n",
              "      <td>25.0</td>\n",
              "      <td>44050.0</td>\n",
              "    </tr>\n",
              "    <tr>\n",
              "      <th>3</th>\n",
              "      <td>33.4</td>\n",
              "      <td>24.6</td>\n",
              "      <td>13.6</td>\n",
              "      <td>24.1</td>\n",
              "      <td>47880.0</td>\n",
              "    </tr>\n",
              "    <tr>\n",
              "      <th>4</th>\n",
              "      <td>36.0</td>\n",
              "      <td>23.3</td>\n",
              "      <td>14.4</td>\n",
              "      <td>24.0</td>\n",
              "      <td>49032.0</td>\n",
              "    </tr>\n",
              "    <tr>\n",
              "      <th>...</th>\n",
              "      <td>...</td>\n",
              "      <td>...</td>\n",
              "      <td>...</td>\n",
              "      <td>...</td>\n",
              "      <td>...</td>\n",
              "    </tr>\n",
              "    <tr>\n",
              "      <th>786</th>\n",
              "      <td>23.0</td>\n",
              "      <td>15.6</td>\n",
              "      <td>6.2</td>\n",
              "      <td>15.2</td>\n",
              "      <td>174973.0</td>\n",
              "    </tr>\n",
              "    <tr>\n",
              "      <th>787</th>\n",
              "      <td>27.4</td>\n",
              "      <td>21.4</td>\n",
              "      <td>13.6</td>\n",
              "      <td>21.0</td>\n",
              "      <td>128693.0</td>\n",
              "    </tr>\n",
              "    <tr>\n",
              "      <th>788</th>\n",
              "      <td>21.8</td>\n",
              "      <td>15.0</td>\n",
              "      <td>8.5</td>\n",
              "      <td>15.1</td>\n",
              "      <td>96289.0</td>\n",
              "    </tr>\n",
              "    <tr>\n",
              "      <th>789</th>\n",
              "      <td>21.9</td>\n",
              "      <td>15.2</td>\n",
              "      <td>8.1</td>\n",
              "      <td>15.1</td>\n",
              "      <td>148701.0</td>\n",
              "    </tr>\n",
              "    <tr>\n",
              "      <th>790</th>\n",
              "      <td>21.1</td>\n",
              "      <td>15.6</td>\n",
              "      <td>9.4</td>\n",
              "      <td>15.5</td>\n",
              "      <td>153571.0</td>\n",
              "    </tr>\n",
              "  </tbody>\n",
              "</table>\n",
              "<p>791 rows × 5 columns</p>\n",
              "</div>"
            ],
            "text/plain": [
              "     Up_price  Mid_price  Low_price  Avg_price    Volume\n",
              "0        38.2       27.1       18.4       27.6   53680.0\n",
              "1        35.9       24.9       14.4       25.0   49751.0\n",
              "2        34.5       25.7       13.2       25.0   44050.0\n",
              "3        33.4       24.6       13.6       24.1   47880.0\n",
              "4        36.0       23.3       14.4       24.0   49032.0\n",
              "..        ...        ...        ...        ...       ...\n",
              "786      23.0       15.6        6.2       15.2  174973.0\n",
              "787      27.4       21.4       13.6       21.0  128693.0\n",
              "788      21.8       15.0        8.5       15.1   96289.0\n",
              "789      21.9       15.2        8.1       15.1  148701.0\n",
              "790      21.1       15.6        9.4       15.5  153571.0\n",
              "\n",
              "[791 rows x 5 columns]"
            ]
          },
          "metadata": {
            "tags": []
          },
          "execution_count": 337
        }
      ]
    },
    {
      "cell_type": "code",
      "metadata": {
        "id": "yriZTYBcl57c"
      },
      "source": [
        "real_avg_price = np.array(df.iloc[time_step:][\"Avg_price\"]).reshape(-1,1)\n",
        "ytest = np.array(df[\"Avg_price\"]).reshape(-1,1)\n",
        "x_inputs = Xscaler.transform(df.drop([\"Avg_price\"], axis=1))\n",
        "y_inputs = Yscaler.transform(ytest)"
      ],
      "execution_count": 338,
      "outputs": []
    },
    {
      "cell_type": "code",
      "metadata": {
        "id": "h_w3Cy795J43"
      },
      "source": [
        "inputs = np.concatenate((x_inputs, y_inputs), axis=1)"
      ],
      "execution_count": 339,
      "outputs": []
    },
    {
      "cell_type": "code",
      "metadata": {
        "id": "rc3ClSFemAES"
      },
      "source": [
        "x_test = []\n",
        "y_test = []\n",
        "time_step = 60\n",
        "for i in range(len(inputs) - time_step):\n",
        "  x_test.append(inputs[i:(i+time_step)])\n",
        "  y_test.append(inputs[(i+time_step)][-1])\n",
        "yy = y_test\n",
        "x_test, y_test = np.array(x_test), np.array(y_test).reshape(-1,1)"
      ],
      "execution_count": 340,
      "outputs": []
    },
    {
      "cell_type": "code",
      "metadata": {
        "id": "6_MlX5bxoLC9"
      },
      "source": [
        "pre_price = regressor.predict(x_test)\n",
        "pre_price = Yscaler.inverse_transform(pre_price)"
      ],
      "execution_count": 341,
      "outputs": []
    },
    {
      "cell_type": "code",
      "metadata": {
        "colab": {
          "base_uri": "https://localhost:8080/",
          "height": 350
        },
        "id": "aoj0t9rbBTu2",
        "outputId": "64be88ce-8912-48a4-ef53-5f75d8efd89a"
      },
      "source": [
        "# Visualising the results\n",
        "plt.figure(figsize=(14,5))\n",
        "plt.plot(real_avg_price, color = 'red', label = 'Real Cabbage Price')\n",
        "plt.plot(pre_price, color = 'blue', label = 'Predicted Cabbage Price')\n",
        "plt.title('Cabbage Price Prediction')\n",
        "plt.xlabel('Time')\n",
        "plt.ylabel('Cabbage Price')\n",
        "plt.legend()\n",
        "plt.show()"
      ],
      "execution_count": 342,
      "outputs": [
        {
          "output_type": "display_data",
          "data": {
            "image/png": "[encoded data removed]",
            "text/plain": [
              "<Figure size 1008x360 with 1 Axes>"
            ]
          },
          "metadata": {
            "tags": [],
            "needs_background": "light"
          }
        }
      ]
    }
  ]
}